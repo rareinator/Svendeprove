{
 "cells": [
  {
   "cell_type": "code",
   "execution_count": 76,
   "id": "adverse-staff",
   "metadata": {},
   "outputs": [],
   "source": [
    "import numpy as np\n",
    "import pandas as pd\n",
    "import tensorflow as tf\n",
    "import ast\n",
    "\n",
    "data_path = \"datasets/example.csv\"\n",
    "model_dir = \"models\"\n",
    "\n",
    "data_train = pd.read_csv(data_path)\n",
    "data_train['symptoms'] = data_train['symptoms'].apply(lambda x: ast.literal_eval(x))\n",
    "data_train['symptoms'] = tf.keras.preprocessing.sequence.pad_sequences(data_train['symptoms'])\n",
    "y_train = data_train.pop(\"diagnosis\")\n",
    "\n",
    "CATEG_COLUMNS = [\"gender\"]\n",
    "NUM_COLUMNS = [\"age\", \"chol\", \"bp\"]"
   ]
  },
  {
   "cell_type": "code",
   "execution_count": 77,
   "id": "executed-passport",
   "metadata": {},
   "outputs": [],
   "source": [
    "def one_hot_cat_column(feature_name, vocab):\n",
    "    return tf.feature_column.indicator_column(\n",
    "        tf.feature_column.categorical_column_with_vocabulary_list(feature_name, vocab))"
   ]
  },
  {
   "cell_type": "code",
   "execution_count": 78,
   "id": "virgin-completion",
   "metadata": {},
   "outputs": [],
   "source": [
    "feature_columns = []\n",
    "for feature_name in CATEG_COLUMNS:\n",
    "    vocab = data_train[feature_name].unique()\n",
    "    feature_columns.append(one_hot_cat_column(feature_name, vocab))\n",
    "    \n",
    "for feature_name in NUM_COLUMNS:\n",
    "    feature_columns.append(tf.feature_column.numeric_column(feature_name, dtype=tf.int32))\n",
    "\n",
    "symptoms = tf.feature_column.sequence_categorical_column_with_identity(\"symptoms\", num_buckets=5000)\n",
    "#symptoms_emb = tf.feature_column.embedding_column(symptoms, dimension=1)\n",
    "#symptoms_seq = tf.keras.experimental.SequenceFeatures(symptoms_emb)\n",
    "feature_columns.append(symptoms)"
   ]
  },
  {
   "cell_type": "code",
   "execution_count": 82,
   "id": "alpine-toner",
   "metadata": {},
   "outputs": [],
   "source": [
    "def make_input(x, y, n_epochs=None, shuffle=True):\n",
    "    def input_fn():\n",
    "        dataset = tf.data.Dataset.from_tensor_slices((dict(x), y))\n",
    "        if shuffle:\n",
    "            dataset = dataset.shuffle(len(y_train))\n",
    "        dataset = dataset.repeat(n_epochs)\n",
    "        dataset = dataset.batch(len(y_train))\n",
    "        return dataset\n",
    "    return input_fn"
   ]
  },
  {
   "cell_type": "code",
   "execution_count": 83,
   "id": "armed-interface",
   "metadata": {},
   "outputs": [],
   "source": [
    "train_input = make_input(data_train, y_train)"
   ]
  },
  {
   "cell_type": "code",
   "execution_count": null,
   "id": "laughing-expense",
   "metadata": {},
   "outputs": [
    {
     "name": "stdout",
     "output_type": "stream",
     "text": [
      "INFO:tensorflow:Using default config.\n",
      "WARNING:tensorflow:Using temporary folder as model directory: /tmp/tmp9fc0wcvm\n",
      "INFO:tensorflow:Using config: {'_model_dir': '/tmp/tmp9fc0wcvm', '_tf_random_seed': None, '_save_summary_steps': 100, '_save_checkpoints_steps': None, '_save_checkpoints_secs': 600, '_session_config': allow_soft_placement: true\n",
      "graph_options {\n",
      "  rewrite_options {\n",
      "    meta_optimizer_iterations: ONE\n",
      "  }\n",
      "}\n",
      ", '_keep_checkpoint_max': 5, '_keep_checkpoint_every_n_hours': 10000, '_log_step_count_steps': 100, '_train_distribute': None, '_device_fn': None, '_protocol': None, '_eval_distribute': None, '_experimental_distribute': None, '_experimental_max_worker_delay_secs': None, '_session_creation_timeout_secs': 7200, '_checkpoint_save_graph_def': True, '_service': None, '_cluster_spec': ClusterSpec({}), '_task_type': 'worker', '_task_id': 0, '_global_id_in_cluster': 0, '_master': '', '_evaluation_master': '', '_is_chief': True, '_num_ps_replicas': 0, '_num_worker_replicas': 1}\n",
      "INFO:tensorflow:Calling model_fn.\n"
     ]
    }
   ],
   "source": [
    "linear_est = tf.estimator.BoostedTreesClassifier(feature_columns, n_classes=5000, n_batches_per_layer=1, train_in_memory=True)\n",
    "\n",
    "model = linear_est.train(train_input, max_steps=100)\n",
    "\n"
   ]
  },
  {
   "cell_type": "code",
   "execution_count": 74,
   "id": "average-solomon",
   "metadata": {},
   "outputs": [
    {
     "name": "stdout",
     "output_type": "stream",
     "text": [
      "INFO:tensorflow:Calling model_fn.\n",
      "INFO:tensorflow:Done calling model_fn.\n",
      "INFO:tensorflow:Starting evaluation at 2021-03-15T12:19:40Z\n",
      "INFO:tensorflow:Graph was finalized.\n",
      "INFO:tensorflow:Restoring parameters from /tmp/tmpl67jkq6d/model.ckpt-100\n",
      "INFO:tensorflow:Running local_init_op.\n",
      "INFO:tensorflow:Done running local_init_op.\n",
      "INFO:tensorflow:Evaluation [1/10]\n",
      "INFO:tensorflow:Evaluation [2/10]\n",
      "INFO:tensorflow:Evaluation [3/10]\n",
      "INFO:tensorflow:Evaluation [4/10]\n",
      "INFO:tensorflow:Evaluation [5/10]\n",
      "INFO:tensorflow:Evaluation [6/10]\n",
      "INFO:tensorflow:Evaluation [7/10]\n",
      "INFO:tensorflow:Evaluation [8/10]\n",
      "INFO:tensorflow:Evaluation [9/10]\n",
      "INFO:tensorflow:Evaluation [10/10]\n",
      "INFO:tensorflow:Inference Time : 28.07620s\n",
      "INFO:tensorflow:Finished evaluation at 2021-03-15-12:20:08\n",
      "INFO:tensorflow:Saving dict for global step 100: accuracy = 0.001021645, average_loss = 7.312817, global_step = 100, loss = 7.3128176\n",
      "INFO:tensorflow:Saving 'checkpoint_path' summary for global step 100: /tmp/tmpl67jkq6d/model.ckpt-100\n",
      "accuracy : 0.001021645\n",
      "average_loss : 7.312817\n",
      "loss : 7.3128176\n",
      "global_step : 100\n"
     ]
    }
   ],
   "source": [
    "result = model.evaluate(train_input, steps=10)\n",
    "\n",
    "for key, value in result.items():\n",
    "  print(key, \":\", value)\n"
   ]
  },
  {
   "cell_type": "code",
   "execution_count": null,
   "id": "norwegian-proposal",
   "metadata": {},
   "outputs": [],
   "source": []
  }
 ],
 "metadata": {
  "kernelspec": {
   "display_name": "Python 3",
   "language": "python",
   "name": "python3"
  },
  "language_info": {
   "codemirror_mode": {
    "name": "ipython",
    "version": 3
   },
   "file_extension": ".py",
   "mimetype": "text/x-python",
   "name": "python",
   "nbconvert_exporter": "python",
   "pygments_lexer": "ipython3",
   "version": "3.8.5"
  }
 },
 "nbformat": 4,
 "nbformat_minor": 5
}
